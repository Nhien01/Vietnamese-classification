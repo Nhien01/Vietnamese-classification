{
 "cells": [
  {
   "cell_type": "code",
   "execution_count": 1,
   "metadata": {},
   "outputs": [],
   "source": [
    "import underthesea # type: ignore\n",
    "from underthesea import word_tokenize # type: ignore\n",
    "\n",
    "def text_tokenize_vietnamese(text):\n",
    "    tokens = word_tokenize(text, format=\"text\")\n",
    "    return tokens\n",
    "\n",
    "def tokenize_txt_file(input_file, output_file):\n",
    "    # Đọc nội dung của file input\n",
    "    with open(input_file, \"r\", encoding=\"utf-8\") as file:\n",
    "        text = file.read()\n",
    "    \n",
    "    # Tách từ trong văn bản\n",
    "    tokenized_text = text_tokenize_vietnamese(text)\n",
    "    \n",
    "    # Lưu kết quả vào file output\n",
    "    with open(output_file, \"w\", encoding=\"utf-8\") as file:\n",
    "        file.write(tokenized_text)\n",
    "\n",
    "# Thay đổi đường dẫn đến file input và output của bạn ở đây\n",
    "input_file_path = \"test_file.txt\"\n",
    "\n",
    "output_file_path = \"file_text.txt\"\n",
    "\n",
    "# Gọi hàm để tách từ trong file và lưu kết quả ra file mới\n",
    "tokenize_txt_file(input_file_path, output_file_path)\n"
   ]
  }
 ],
 "metadata": {
  "kernelspec": {
   "display_name": "Python 3",
   "language": "python",
   "name": "python3"
  },
  "language_info": {
   "codemirror_mode": {
    "name": "ipython",
    "version": 3
   },
   "file_extension": ".py",
   "mimetype": "text/x-python",
   "name": "python",
   "nbconvert_exporter": "python",
   "pygments_lexer": "ipython3",
   "version": "3.11.9"
  }
 },
 "nbformat": 4,
 "nbformat_minor": 2
}
