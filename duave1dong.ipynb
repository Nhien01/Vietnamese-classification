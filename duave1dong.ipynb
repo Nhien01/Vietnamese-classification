{
 "cells": [
  {
   "cell_type": "code",
   "execution_count": 2,
   "metadata": {},
   "outputs": [
    {
     "name": "stdout",
     "output_type": "stream",
     "text": [
      "Nội dung đã được lưu vào file mới 'test_file.txt'.\n"
     ]
    }
   ],
   "source": [
    "import re\n",
    "\n",
    "# Đọc nội dung từ file \"test.txt\"\n",
    "with open(\"test.txt\", \"r\", encoding=\"utf-8\") as file:\n",
    "    lines = file.readlines()\n",
    "\n",
    "# Ghi nội dung đã tách vào file mới\n",
    "with open(\"test_file.txt\", \"w\", encoding=\"utf-8\") as test_file:\n",
    "    label_content = \"\"\n",
    "    for line in lines:\n",
    "        if line.startswith(\"__label__\"):\n",
    "            if label_content:\n",
    "                test_file.write(label_content + \"\\n\")\n",
    "                label_content = \"\"\n",
    "            label_content = line.strip()\n",
    "        else:\n",
    "            label_content += \" \" + line.strip()\n",
    "\n",
    "    # Ghi nội dung còn lại (nếu có)\n",
    "    if label_content:\n",
    "        test_file.write(label_content + \"\\n\")\n",
    "\n",
    "print(\"Nội dung đã được lưu vào file mới 'test_file.txt'.\")\n",
    "\n"
   ]
  }
 ],
 "metadata": {
  "kernelspec": {
   "display_name": "Python 3",
   "language": "python",
   "name": "python3"
  },
  "language_info": {
   "codemirror_mode": {
    "name": "ipython",
    "version": 3
   },
   "file_extension": ".py",
   "mimetype": "text/x-python",
   "name": "python",
   "nbconvert_exporter": "python",
   "pygments_lexer": "ipython3",
   "version": "3.11.9"
  }
 },
 "nbformat": 4,
 "nbformat_minor": 2
}
